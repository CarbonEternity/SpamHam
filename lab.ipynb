{
 "cells": [
  {
   "cell_type": "code",
   "execution_count": 41,
   "outputs": [],
   "source": [
    "import collections\n",
    "import csv\n",
    "import re\n",
    "from collections import Counter\n",
    "\n",
    "import matplotlib.pyplot as plt\n",
    "import pandas as pn\n",
    "import seaborn as sns\n",
    "from nltk.stem import PorterStemmer\n",
    "from nltk.tokenize import word_tokenize"
   ],
   "metadata": {
    "collapsed": false,
    "pycharm": {
     "name": "#%%\n"
    }
   }
  },
  {
   "cell_type": "code",
   "execution_count": 42,
   "outputs": [],
   "source": [
    "#['sentence','sentence']\n",
    "spamList = []\n",
    "hamList = []\n",
    "\n",
    "#{'word':count}\n",
    "arrWord_Spam = {}\n",
    "arrWord_Ham = {}\n",
    "\n",
    "porter = PorterStemmer()"
   ],
   "metadata": {
    "collapsed": false,
    "pycharm": {
     "name": "#%%\n"
    }
   }
  },
  {
   "cell_type": "code",
   "execution_count": 43,
   "outputs": [],
   "source": [
    "def stemSentence(sentence):\n",
    "    token_words = word_tokenize(sentence)\n",
    "    stem_sentence = []\n",
    "    for word in token_words:\n",
    "        stem_sentence.append(porter.stem(word))\n",
    "        stem_sentence.append(\" \")\n",
    "    return \"\".join(stem_sentence)"
   ],
   "metadata": {
    "collapsed": false,
    "pycharm": {
     "name": "#%%\n"
    }
   }
  },
  {
   "cell_type": "code",
   "execution_count": 44,
   "outputs": [],
   "source": [
    "def add_and_count(someList,outputArr):\n",
    "    for item in someList:\n",
    "        split_words = word_tokenize(item)\n",
    "        for word in split_words:\n",
    "            #print(word)\n",
    "            if not  word in outputArr :\n",
    "                outputArr[word] = 1\n",
    "            else:\n",
    "                outputArr[word] += 1"
   ],
   "metadata": {
    "collapsed": false,
    "pycharm": {
     "name": "#%%\n"
    }
   }
  },
  {
   "cell_type": "code",
   "execution_count": 45,
   "outputs": [],
   "source": [
    "def openFile_fillArrays():\n",
    "    with open(\"input/sms-spam-corpus.csv\", newline='') as csvfile:\n",
    "        reader = csv.DictReader(csvfile, delimiter=\",\")\n",
    "        i = 1\n",
    "        for row in reader:\n",
    "            i += 1\n",
    "            if row['v1'] =='spam':\n",
    "                spamList.append(stemSentence((re.sub(r'[^a-zA-Z ]', r'', row['v2'])).lower()))\n",
    "            else:\n",
    "                hamList.append(stemSentence((re.sub(r'[^a-zA-Z ]', r'', row['v2'])).lower()))\n",
    "    csvfile.close()"
   ],
   "metadata": {
    "collapsed": false,
    "pycharm": {
     "name": "#%%\n"
    }
   }
  },
  {
   "cell_type": "code",
   "execution_count": 46,
   "outputs": [],
   "source": [
    "def fillSpamFile():\n",
    "    w = csv.writer(open(\"output/spam.csv\", \"w\"))\n",
    "    tmp = collections.OrderedDict(sorted(arrWord_Spam.items()))\n",
    "    for key, val in tmp.items():\n",
    "        w.writerow(['word: ', key ,' amount: ', val])"
   ],
   "metadata": {
    "collapsed": false,
    "pycharm": {
     "name": "#%%\n"
    }
   }
  },
  {
   "cell_type": "code",
   "execution_count": 47,
   "outputs": [],
   "source": [
    "def fillHamFile():\n",
    "    w = csv.writer(open(\"output/ham.csv\", \"w\"))\n",
    "    for key, val in arrWord_Ham.items():\n",
    "        w.writerow(['word: ', key ,' amount: ', val])"
   ],
   "metadata": {
    "collapsed": false,
    "pycharm": {
     "name": "#%%\n"
    }
   }
  },
  {
   "cell_type": "code",
   "execution_count": 48,
   "outputs": [],
   "source": [
    "openFile_fillArrays()\n",
    "add_and_count(spamList, arrWord_Spam)\n",
    "add_and_count(hamList, arrWord_Ham)\n",
    "\n",
    "fillHamFile()\n",
    "fillSpamFile()"
   ],
   "metadata": {
    "collapsed": false,
    "pycharm": {
     "name": "#%%\n"
    }
   }
  },
  {
   "cell_type": "code",
   "execution_count": 49,
   "outputs": [],
   "source": [
    "def countAvg(arr):\n",
    "    t_len = 0\n",
    "    t_val = 0\n",
    "    for key, value in arr.items():\n",
    "        t_len += len(key)*value\n",
    "        t_val += value\n",
    "    return t_len/t_val"
   ],
   "metadata": {
    "collapsed": false,
    "pycharm": {
     "name": "#%%\n"
    }
   }
  },
  {
   "cell_type": "code",
   "execution_count": 50,
   "outputs": [],
   "source": [
    "def getCountWordsLength(list):\n",
    "    result = []\n",
    "    for item in list:\n",
    "        if item:\n",
    "            result.append(len(item))\n",
    "    return result"
   ],
   "metadata": {
    "collapsed": false,
    "pycharm": {
     "name": "#%%\n"
    }
   }
  },
  {
   "cell_type": "code",
   "execution_count": 51,
   "outputs": [],
   "source": [
    "def getCountMessagesLength(spamList):\n",
    "    result = []\n",
    "    for text in spamList:\n",
    "        if text:\n",
    "            result.append(len(text))\n",
    "    return result"
   ],
   "metadata": {
    "collapsed": false,
    "pycharm": {
     "name": "#%%\n"
    }
   }
  },
  {
   "cell_type": "code",
   "execution_count": 52,
   "outputs": [],
   "source": [
    "def countAvgSentence(list):\n",
    "    count = 0\n",
    "    sum = 0\n",
    "    for item in list:\n",
    "        if item:\n",
    "            sum += len(item)\n",
    "            count += 1\n",
    "    return sum//count"
   ],
   "metadata": {
    "collapsed": false,
    "pycharm": {
     "name": "#%%\n"
    }
   }
  },
  {
   "cell_type": "code",
   "execution_count": 53,
   "outputs": [
    {
     "name": "stdout",
     "output_type": "stream",
     "text": [
      "Средняя длина слова- spam:  4.113176530096105\n",
      "Средняя длина слова- ham :  4.113176530096105\n"
     ]
    }
   ],
   "source": [
    "#1ый график\n",
    "print('Средняя длина слова- spam: ',countAvg(arrWord_Spam))\n",
    "print('Средняя длина слова- ham : ',countAvg(arrWord_Spam))\n",
    "\n",
    "lengthSpam = getCountWordsLength(arrWord_Spam)\n",
    "lengthHam = getCountWordsLength(arrWord_Ham)\n",
    "\n",
    "countWordsLengthSpam = Counter(lengthSpam)\n",
    "countWordsLengthHam = Counter(lengthHam)\n",
    "\n",
    "hamWordsLength = pn.DataFrame(countWordsLengthHam.most_common(), columns=['word','count'])\n",
    "spamWordsLength =pn.DataFrame(countWordsLengthSpam.most_common(), columns=['word','count'])"
   ],
   "metadata": {
    "collapsed": false,
    "pycharm": {
     "name": "#%%\n"
    }
   }
  },
  {
   "cell_type": "code",
   "execution_count": 54,
   "outputs": [
    {
     "data": {
      "text/plain": "<Figure size 432x288 with 1 Axes>",
      "image/png": "[encoded data removed]"
     },
     "metadata": {
      "needs_background": "light"
     },
     "output_type": "display_data"
    }
   ],
   "source": [
    "sns.barplot(x='word', y='count', data=hamWordsLength)\n",
    "plt.title(\"Розподіл по довжині слів для Ham\")\n",
    "plt.savefig('output/png/First-graphics-Ham.png')\n",
    "plt.show()"
   ],
   "metadata": {
    "collapsed": false,
    "pycharm": {
     "name": "#%%\n"
    }
   }
  },
  {
   "cell_type": "code",
   "execution_count": 55,
   "outputs": [
    {
     "data": {
      "text/plain": "<Figure size 432x288 with 1 Axes>",
      "image/png": "[encoded data removed]"
     },
     "metadata": {
      "needs_background": "light"
     },
     "output_type": "display_data"
    }
   ],
   "source": [
    "sns.barplot(x='word', y='count', data=spamWordsLength)\n",
    "plt.title(\"Розподіл по довжині слів для Spam\")\n",
    "plt.savefig('output/png/First-graphics-Spam.png')\n",
    "plt.show()"
   ],
   "metadata": {
    "collapsed": false,
    "pycharm": {
     "name": "#%%\n"
    }
   }
  },
  {
   "cell_type": "code",
   "execution_count": 56,
   "outputs": [
    {
     "name": "stdout",
     "output_type": "stream",
     "text": [
      "Средняя длина сообщения - spam:  108\n",
      "Средняя длина сообщения - ham:  63\n"
     ]
    }
   ],
   "source": [
    "#2ый график\n",
    "print('Средняя длина сообщения - spam: ' ,countAvgSentence(spamList))\n",
    "print('Средняя длина сообщения - ham: ' ,countAvgSentence(hamList))\n",
    "\n",
    "lengthSpamMessage = getCountMessagesLength(spamList)\n",
    "lengthHamMessage =  getCountMessagesLength(hamList)\n",
    "\n",
    "countSpamMessage = Counter(lengthSpamMessage)\n",
    "countHamMessage = Counter(lengthHamMessage)\n",
    "\n",
    "messageSpam = pn.DataFrame(countSpamMessage.most_common(), columns=['message','count'])\n",
    "messageHam = pn.DataFrame(countHamMessage.most_common(), columns=['message','count'])"
   ],
   "metadata": {
    "collapsed": false,
    "pycharm": {
     "name": "#%%\n"
    }
   }
  },
  {
   "cell_type": "code",
   "execution_count": 57,
   "outputs": [
    {
     "data": {
      "text/plain": "<Figure size 432x288 with 1 Axes>",
      "image/png": "[encoded data removed]"
     },
     "metadata": {
      "needs_background": "light"
     },
     "output_type": "display_data"
    },
    {
     "data": {
      "text/plain": "<Figure size 432x288 with 0 Axes>"
     },
     "metadata": {},
     "output_type": "display_data"
    }
   ],
   "source": [
    "sns.barplot(x='message', y='count', data=messageSpam)\n",
    "plt.title(\"Розподіл по довжині повідомлень для Spam\")\n",
    "plt.show()\n",
    "plt.savefig('output/png/Second-graphics-Spam.png')"
   ],
   "metadata": {
    "collapsed": false,
    "pycharm": {
     "name": "#%%\n"
    }
   }
  },
  {
   "cell_type": "code",
   "execution_count": 58,
   "outputs": [
    {
     "data": {
      "text/plain": "<Figure size 432x288 with 1 Axes>",
      "image/png": "[encoded data removed]"
     },
     "metadata": {
      "needs_background": "light"
     },
     "output_type": "display_data"
    },
    {
     "data": {
      "text/plain": "<Figure size 432x288 with 0 Axes>"
     },
     "metadata": {},
     "output_type": "display_data"
    }
   ],
   "source": [
    "sns.barplot(x='message', y='count', data=messageHam)\n",
    "plt.title(\"Розподіл по довжині повідомлень для Ham\")\n",
    "plt.show()\n",
    "plt.savefig('output/png/Second-graphics-Ham.png')"
   ],
   "metadata": {
    "collapsed": false,
    "pycharm": {
     "name": "#%%\n"
    }
   }
  },
  {
   "cell_type": "code",
   "execution_count": 59,
   "outputs": [],
   "source": [
    "#3ий график\n",
    "countHam = Counter(arrWord_Spam)\n",
    "countSpam = Counter(arrWord_Ham)\n",
    "hams20= pn.DataFrame(countHam.most_common(20), columns=['word','count'])\n",
    "spams20= pn.DataFrame(countSpam.most_common(20), columns=['word','count'])"
   ],
   "metadata": {
    "collapsed": false,
    "pycharm": {
     "name": "#%%\n"
    }
   }
  },
  {
   "cell_type": "code",
   "execution_count": 60,
   "outputs": [
    {
     "data": {
      "text/plain": "<Figure size 432x288 with 1 Axes>",
      "image/png": "[encoded data removed]"
     },
     "metadata": {
      "needs_background": "light"
     },
     "output_type": "display_data"
    },
    {
     "data": {
      "text/plain": "<Figure size 432x288 with 0 Axes>"
     },
     "metadata": {},
     "output_type": "display_data"
    }
   ],
   "source": [
    "sns.barplot(x='word', y='count', data=spams20)\n",
    "plt.title(\"20 слів, які зустрічаються найчастіше Spam\")\n",
    "plt.show()\n",
    "plt.savefig('output/png/Third-graphics-Spam.png')"
   ],
   "metadata": {
    "collapsed": false,
    "pycharm": {
     "name": "#%%\n"
    }
   }
  },
  {
   "cell_type": "code",
   "execution_count": 61,
   "outputs": [
    {
     "data": {
      "text/plain": "<Figure size 432x288 with 1 Axes>",
      "image/png": "[encoded data removed]"
     },
     "metadata": {
      "needs_background": "light"
     },
     "output_type": "display_data"
    },
    {
     "data": {
      "text/plain": "<Figure size 432x288 with 0 Axes>"
     },
     "metadata": {},
     "output_type": "display_data"
    }
   ],
   "source": [
    "sns.barplot(x='word', y='count', data=hams20)\n",
    "plt.title(\"20 слів, які зустрічаються найчастіше Ham\")\n",
    "plt.show()\n",
    "plt.savefig('output/png/Third-graphics-Ham.png')"
   ],
   "metadata": {
    "collapsed": false,
    "pycharm": {
     "name": "#%%\n"
    }
   }
  }
 ],
 "metadata": {
  "kernelspec": {
   "name": "pycharm-2b5b27e0",
   "language": "python",
   "display_name": "PyCharm (labOne)"
  },
  "language_info": {
   "codemirror_mode": {
    "name": "ipython",
    "version": 2
   },
   "file_extension": ".py",
   "mimetype": "text/x-python",
   "name": "python",
   "nbconvert_exporter": "python",
   "pygments_lexer": "ipython2",
   "version": "2.7.6"
  }
 },
 "nbformat": 4,
 "nbformat_minor": 0
}